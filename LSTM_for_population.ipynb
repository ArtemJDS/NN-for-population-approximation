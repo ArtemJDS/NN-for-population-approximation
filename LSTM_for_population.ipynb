{
  "nbformat": 4,
  "nbformat_minor": 0,
  "metadata": {
    "colab": {
      "provenance": [],
      "authorship_tag": "ABX9TyPwM/1XP6+y/fvTLJ0FFMqu",
      "include_colab_link": true
    },
    "kernelspec": {
      "name": "python3",
      "display_name": "Python 3"
    },
    "language_info": {
      "name": "python"
    }
  },
  "cells": [
    {
      "cell_type": "markdown",
      "metadata": {
        "id": "view-in-github",
        "colab_type": "text"
      },
      "source": [
        "<a href=\"https://colab.research.google.com/github/ArtemJDS/NN-for-population-approximation/blob/main/LSTM_for_population.ipynb\" target=\"_parent\"><img src=\"https://colab.research.google.com/assets/colab-badge.svg\" alt=\"Open In Colab\"/></a>"
      ]
    },
    {
      "cell_type": "code",
      "execution_count": null,
      "metadata": {
        "id": "ZNyGCgMLUBtP"
      },
      "outputs": [],
      "source": [
        "import matplotlib.pyplot as plt\n",
        "import numpy as np\n",
        "import pandas as pd\n",
        "import tensorflow as tf\n",
        "import h5py\n",
        "import tqdm\n",
        "from sklearn.metrics import accuracy_score, precision_score, recall_score\n",
        "from sklearn.model_selection import train_test_split\n",
        "from tensorflow.keras import layers, losses\n",
        "from tensorflow.keras.models import Model\n",
        "from google.colab import files\n",
        "import seaborn as sns\n",
        "from sklearn.preprocessing import normalize\n",
        "import pandas as pd\n",
        "from scipy.special import softmax\n",
        "from keras.layers import LSTM\n",
        "from keras.models import Sequential\n",
        "from keras.layers import Dense\n",
        "from keras.preprocessing.sequence import TimeseriesGenerator\n",
        "from google.colab import drive\n",
        "drive.mount('/content/drive')\n",
        "!unzip /content/drive/MyDrive/voltage_and_input.zip"
      ]
    },
    {
      "cell_type": "code",
      "source": [
        "N_BINS = 249\n",
        "INPUT_EPOCH = 2500"
      ],
      "metadata": {
        "id": "pk8nSiuHzFLr"
      },
      "execution_count": null,
      "outputs": []
    },
    {
      "cell_type": "code",
      "source": [
        "dataset = h5py.File('/content/content/voltage_and_input.h5', 'r')\n",
        "voltage = np.array(dataset['voltage'], dtype = np.float32).T    # population's voltage dynamics               \n",
        "input = np.array(dataset['input'], dtype = np.float32)     # population's input   \n",
        "\n",
        "min = np.min(voltage)\n",
        "max = np.max(voltage)\n",
        "bins = np.linspace(min, max, N_BINS)     \n",
        "x = np.apply_along_axis(np.histogram, 1, voltage, bins = bins, density = True).T[0]\n",
        "x = list(x)\n",
        "x = np.stack(x)\n",
        "densities = normalize(x, norm = 'l1') # shape = n,m, where n = # of timesteps, m = N_BINS - 1"
      ],
      "metadata": {
        "id": "HnK1COzlzJR7"
      },
      "execution_count": null,
      "outputs": []
    },
    {
      "cell_type": "code",
      "source": [
        "LENGTH = 1\n",
        "data_gen = TimeseriesGenerator(densities, densities,\n",
        "                               length=length, sampling_rate=1,\n",
        "                               batch_size=128, shuffle=True)"
      ],
      "metadata": {
        "id": "jP4h7nY_2H8f"
      },
      "execution_count": null,
      "outputs": []
    },
    {
      "cell_type": "markdown",
      "source": [
        "Approximating of dynamics via LSTM network"
      ],
      "metadata": {
        "id": "0Ngp1iLZ3b1l"
      }
    },
    {
      "cell_type": "code",
      "source": [
        "model = Sequential()\n",
        "#model.add(Dense(n_bins, activation='sigmoid', name = 'initial_layer'))\n",
        "model.add(LSTM(256, activation='sigmoid',\n",
        "               input_shape=(LENGTH, N_BINS),\n",
        "               return_sequences=True, \n",
        "               ))\n",
        "model.add(LSTM(256, activation='sigmoid', return_sequences=True))\n",
        "model.add(LSTM(256, activation='sigmoid'))\n",
        "model.add(Dense(N_BINS, activation='softmax'))\n",
        "model.compile(optimizer='adam', loss= \"mse\")\n",
        "model.summary()\n",
        "model.fit(data_gen, epochs=200)"
      ],
      "metadata": {
        "id": "YNkQzD8z2Mm5"
      },
      "execution_count": null,
      "outputs": []
    }
  ]
}